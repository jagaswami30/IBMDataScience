{
  "metadata": {
    "kernelspec": {
      "name": "python",
      "display_name": "Pyolite",
      "language": "python"
    },
    "language_info": {
      "codemirror_mode": {
        "name": "python",
        "version": 3
      },
      "file_extension": ".py",
      "mimetype": "text/x-python",
      "name": "python",
      "nbconvert_exporter": "python",
      "pygments_lexer": "ipython3",
      "version": "3.8"
    }
  },
  "nbformat_minor": 4,
  "nbformat": 4,
  "cells": [
    {
      "cell_type": "markdown",
      "source": "<center>\n    <img src=\"https://cf-courses-data.s3.us.cloud-object-storage.appdomain.cloud/IBMDeveloperSkillsNetwork-DS0105EN-SkillsNetwork/labs/Module2/images/SN_web_lightmode.png\" width=\"300\" alt=\"cognitiveclass.ai logo\">\n</center>\n",
      "metadata": {}
    },
    {
      "cell_type": "markdown",
      "source": "#### Add your code below following the instructions given in the course\n",
      "metadata": {}
    },
    {
      "cell_type": "markdown",
      "source": "# Title: Data Science Tools and Ecosystem",
      "metadata": {}
    },
    {
      "cell_type": "markdown",
      "source": "# Introduction - In this notebook, Data Science Tools and Ecosystem are summarized.",
      "metadata": {}
    },
    {
      "cell_type": "markdown",
      "source": "Some of the popular languages that Data Scientists use are:\n- Python\n- R\n- Scala\n- SQL\n- Data Visualization\n",
      "metadata": {}
    },
    {
      "cell_type": "markdown",
      "source": "Some of the commonly used libraries used by Data Scientists include:\n\nPython Libraries\n\n* pandas\n* numpy\n* matplotlib\n* seaborn\n* scipy\n* sci-kit learn\n* tensorflow\n* sqlalchemy\n\nR Libraries\n\n* ggplot\n* plotly\n* dplyr\n* readr\n* tidyr\n* sqldf\n\n\n",
      "metadata": {}
    },
    {
      "cell_type": "markdown",
      "source": "# Data Science Tools\n\n| Data Science Tools |\n| --- |\n| Jupyter Notebook |\n| R Studio |\n| Spyder, KNIME, Apache Spark |",
      "metadata": {}
    },
    {
      "cell_type": "markdown",
      "source": "### Below are a few examples of evaluating arithmetic expressions in Python\n- Addition: x + y\n- Subtraction: x - y\n- Multiplication: x*y\n- Division: x/y\n- Quotient: x//y\n- Reminder: x%y",
      "metadata": {}
    },
    {
      "cell_type": "code",
      "source": "# This a simple arithmetic expression to mutiply then add integers\n(3*4)+5",
      "metadata": {
        "trusted": true
      },
      "execution_count": 28,
      "outputs": [
        {
          "execution_count": 28,
          "output_type": "execute_result",
          "data": {
            "text/plain": "17"
          },
          "metadata": {}
        }
      ]
    },
    {
      "cell_type": "code",
      "source": "#This will convert 200 minutes to hours by diving by 60\ndef min_hour(x):\n    hr = x / 60\n    print(\"Hours: \", hr)\n\n#supply minutes to the function, function will return the hour\nmin_hour(200)\n",
      "metadata": {
        "trusted": true
      },
      "execution_count": 29,
      "outputs": [
        {
          "name": "stdout",
          "text": "Hours:  3.3333333333333335\n",
          "output_type": "stream"
        }
      ]
    },
    {
      "cell_type": "markdown",
      "source": "### Objectives:\n- Tried to explain data science tools, libraries, languages used for data science project\n- Tried to explore some of the arithmetic expression\n- Doing some arithmetic expression in python coding\n- Exploring most of the markdown features\n- Python and Jupyter notebook used",
      "metadata": {}
    },
    {
      "cell_type": "markdown",
      "source": "## Author\nJagadeesan Swaminathan\n",
      "metadata": {}
    },
    {
      "cell_type": "code",
      "source": "",
      "metadata": {},
      "execution_count": null,
      "outputs": []
    }
  ]
}