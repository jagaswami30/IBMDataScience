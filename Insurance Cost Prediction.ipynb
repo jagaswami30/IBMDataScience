{
    "cells": [
        {
            "metadata": {
                "collapsed": true
            },
            "cell_type": "markdown",
            "source": "# Insurance Cost Prediction"
        },
        {
            "metadata": {},
            "cell_type": "code",
            "source": "\nimport os, types\nimport pandas as pd\nfrom botocore.client import Config\nimport ibm_boto3\n\ndef __iter__(self): return 0\n\n# @hidden_cell\n# The following code accesses a file in your IBM Cloud Object Storage. It includes your credentials.\n# You might want to remove those credentials before you share the notebook.\ncos_client = ibm_boto3.client(service_name='s3',\n    ibm_api_key_id='H1ygtsvKSvpv2jH451PbhhIpjF2MG84RtmQSdLq2RFO8',\n    ibm_auth_endpoint=\"https://iam.cloud.ibm.com/oidc/token\",\n    config=Config(signature_version='oauth'),\n    endpoint_url='https://s3.private.us-south.cloud-object-storage.appdomain.cloud')\n\nbucket = 'ibmdatascienceproject-donotdelete-pr-kc5atfnohqn9zt'\nobject_key = 'Data.csv'\n\nbody = cos_client.get_object(Bucket=bucket,Key=object_key)['Body']\n# add missing __iter__ method, so pandas accepts body as file-like object\nif not hasattr(body, \"__iter__\"): body.__iter__ = types.MethodType( __iter__, body )\n\ndf_data_1 = pd.read_csv(body)\ndf_data_1.head()\n",
            "execution_count": 1,
            "outputs": [
                {
                    "output_type": "execute_result",
                    "execution_count": 1,
                    "data": {
                        "text/plain": "   applicant_id  years_of_insurance_with_us  regular_checkup_lasy_year  \\\n0          5000                           3                          1   \n1          5001                           0                          0   \n2          5002                           1                          0   \n3          5003                           7                          4   \n4          5004                           3                          1   \n\n   adventure_sports Occupation  visited_doctor_last_1_year cholesterol_level  \\\n0                 1    Salried                           2        125 to 150   \n1                 0    Student                           4        150 to 175   \n2                 0   Business                           4        200 to 225   \n3                 0   Business                           2        175 to 200   \n4                 0    Student                           2        150 to 175   \n\n   daily_avg_steps  age  heart_decs_history  ...   smoking_status  \\\n0             4866   28                   1  ...          Unknown   \n1             6411   50                   0  ...  formerly smoked   \n2             4509   68                   0  ...  formerly smoked   \n3             6214   51                   0  ...          Unknown   \n4             4938   44                   0  ...     never smoked   \n\n  Year_last_admitted   Location  weight covered_by_any_other_company  Alcohol  \\\n0                NaN    Chennai      67                            N     Rare   \n1                NaN     Jaipur      58                            N     Rare   \n2                NaN     Jaipur      73                            N    Daily   \n3                NaN    Chennai      71                            Y     Rare   \n4             2004.0  Bangalore      74                            N       No   \n\n   exercise  weight_change_in_last_one_year fat_percentage insurance_cost  \n0  Moderate                               1             25          20978  \n1  Moderate                               3             27           6170  \n2   Extreme                               0             32          28382  \n3        No                               3             37          27148  \n4   Extreme                               0             34          29616  \n\n[5 rows x 24 columns]",
                        "text/html": "<div>\n<style scoped>\n    .dataframe tbody tr th:only-of-type {\n        vertical-align: middle;\n    }\n\n    .dataframe tbody tr th {\n        vertical-align: top;\n    }\n\n    .dataframe thead th {\n        text-align: right;\n    }\n</style>\n<table border=\"1\" class=\"dataframe\">\n  <thead>\n    <tr style=\"text-align: right;\">\n      <th></th>\n      <th>applicant_id</th>\n      <th>years_of_insurance_with_us</th>\n      <th>regular_checkup_lasy_year</th>\n      <th>adventure_sports</th>\n      <th>Occupation</th>\n      <th>visited_doctor_last_1_year</th>\n      <th>cholesterol_level</th>\n      <th>daily_avg_steps</th>\n      <th>age</th>\n      <th>heart_decs_history</th>\n      <th>...</th>\n      <th>smoking_status</th>\n      <th>Year_last_admitted</th>\n      <th>Location</th>\n      <th>weight</th>\n      <th>covered_by_any_other_company</th>\n      <th>Alcohol</th>\n      <th>exercise</th>\n      <th>weight_change_in_last_one_year</th>\n      <th>fat_percentage</th>\n      <th>insurance_cost</th>\n    </tr>\n  </thead>\n  <tbody>\n    <tr>\n      <th>0</th>\n      <td>5000</td>\n      <td>3</td>\n      <td>1</td>\n      <td>1</td>\n      <td>Salried</td>\n      <td>2</td>\n      <td>125 to 150</td>\n      <td>4866</td>\n      <td>28</td>\n      <td>1</td>\n      <td>...</td>\n      <td>Unknown</td>\n      <td>NaN</td>\n      <td>Chennai</td>\n      <td>67</td>\n      <td>N</td>\n      <td>Rare</td>\n      <td>Moderate</td>\n      <td>1</td>\n      <td>25</td>\n      <td>20978</td>\n    </tr>\n    <tr>\n      <th>1</th>\n      <td>5001</td>\n      <td>0</td>\n      <td>0</td>\n      <td>0</td>\n      <td>Student</td>\n      <td>4</td>\n      <td>150 to 175</td>\n      <td>6411</td>\n      <td>50</td>\n      <td>0</td>\n      <td>...</td>\n      <td>formerly smoked</td>\n      <td>NaN</td>\n      <td>Jaipur</td>\n      <td>58</td>\n      <td>N</td>\n      <td>Rare</td>\n      <td>Moderate</td>\n      <td>3</td>\n      <td>27</td>\n      <td>6170</td>\n    </tr>\n    <tr>\n      <th>2</th>\n      <td>5002</td>\n      <td>1</td>\n      <td>0</td>\n      <td>0</td>\n      <td>Business</td>\n      <td>4</td>\n      <td>200 to 225</td>\n      <td>4509</td>\n      <td>68</td>\n      <td>0</td>\n      <td>...</td>\n      <td>formerly smoked</td>\n      <td>NaN</td>\n      <td>Jaipur</td>\n      <td>73</td>\n      <td>N</td>\n      <td>Daily</td>\n      <td>Extreme</td>\n      <td>0</td>\n      <td>32</td>\n      <td>28382</td>\n    </tr>\n    <tr>\n      <th>3</th>\n      <td>5003</td>\n      <td>7</td>\n      <td>4</td>\n      <td>0</td>\n      <td>Business</td>\n      <td>2</td>\n      <td>175 to 200</td>\n      <td>6214</td>\n      <td>51</td>\n      <td>0</td>\n      <td>...</td>\n      <td>Unknown</td>\n      <td>NaN</td>\n      <td>Chennai</td>\n      <td>71</td>\n      <td>Y</td>\n      <td>Rare</td>\n      <td>No</td>\n      <td>3</td>\n      <td>37</td>\n      <td>27148</td>\n    </tr>\n    <tr>\n      <th>4</th>\n      <td>5004</td>\n      <td>3</td>\n      <td>1</td>\n      <td>0</td>\n      <td>Student</td>\n      <td>2</td>\n      <td>150 to 175</td>\n      <td>4938</td>\n      <td>44</td>\n      <td>0</td>\n      <td>...</td>\n      <td>never smoked</td>\n      <td>2004.0</td>\n      <td>Bangalore</td>\n      <td>74</td>\n      <td>N</td>\n      <td>No</td>\n      <td>Extreme</td>\n      <td>0</td>\n      <td>34</td>\n      <td>29616</td>\n    </tr>\n  </tbody>\n</table>\n<p>5 rows \u00d7 24 columns</p>\n</div>"
                    },
                    "metadata": {}
                }
            ]
        },
        {
            "metadata": {},
            "cell_type": "code",
            "source": "",
            "execution_count": null,
            "outputs": []
        }
    ],
    "metadata": {
        "kernelspec": {
            "name": "python3",
            "display_name": "Python 3.10",
            "language": "python"
        },
        "language_info": {
            "name": "python",
            "version": "3.10.9",
            "mimetype": "text/x-python",
            "codemirror_mode": {
                "name": "ipython",
                "version": 3
            },
            "pygments_lexer": "ipython3",
            "nbconvert_exporter": "python",
            "file_extension": ".py"
        }
    },
    "nbformat": 4,
    "nbformat_minor": 1
}